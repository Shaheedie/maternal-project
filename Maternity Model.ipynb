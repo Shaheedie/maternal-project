{
 "cells": [
  {
   "cell_type": "code",
   "execution_count": 1,
   "id": "5e8a1333-8b9b-4d20-b27e-257d8d01e704",
   "metadata": {},
   "outputs": [],
   "source": [
    "# 📦 Step 1: Import required libraries\n",
    "import pandas as pd\n",
    "import numpy as np\n",
    "import seaborn as sns\n",
    "import matplotlib.pyplot as plt\n",
    "\n",
    "from sklearn.model_selection import train_test_split\n",
    "from sklearn.ensemble import RandomForestClassifier\n",
    "from sklearn.preprocessing import LabelEncoder\n",
    "from sklearn.metrics import accuracy_score, classification_report\n",
    "import warnings\n",
    "warnings.filterwarnings('ignore')\n"
   ]
  },
  {
   "cell_type": "code",
   "execution_count": 7,
   "id": "541067de-d3a3-469c-ad67-0acb323d9b5b",
   "metadata": {},
   "outputs": [],
   "source": [
    "df = pd.read_csv('Maternal_Data.csv')  "
   ]
  },
  {
   "cell_type": "code",
   "execution_count": 9,
   "id": "ca2e646f-20a3-473b-b7f7-359fb7574f55",
   "metadata": {},
   "outputs": [
    {
     "data": {
      "text/plain": [
       "<bound method NDFrame.head of       Age  SystolicBP  DiastolicBP    BS  BodyTemp  HeartRate  RiskLevel\n",
       "0      25         130           80  15.0      98.0         86  high risk\n",
       "1      35         140           90  13.0      98.0         70  high risk\n",
       "2      29          90           70   8.0     100.0         80  high risk\n",
       "3      30         140           85   7.0      98.0         70  high risk\n",
       "4      35         120           60   6.1      98.0         76   low risk\n",
       "...   ...         ...          ...   ...       ...        ...        ...\n",
       "1009   22         120           60  15.0      98.0         80  high risk\n",
       "1010   55         120           90  18.0      98.0         60  high risk\n",
       "1011   35          85           60  19.0      98.0         86  high risk\n",
       "1012   43         120           90  18.0      98.0         70  high risk\n",
       "1013   32         120           65   6.0     101.0         76   mid risk\n",
       "\n",
       "[1014 rows x 7 columns]>"
      ]
     },
     "execution_count": 9,
     "metadata": {},
     "output_type": "execute_result"
    }
   ],
   "source": [
    "df.head"
   ]
  },
  {
   "cell_type": "code",
   "execution_count": 11,
   "id": "0467f48d-4e75-4907-a423-b44492ce9018",
   "metadata": {},
   "outputs": [
    {
     "data": {
      "text/html": [
       "<div>\n",
       "<style scoped>\n",
       "    .dataframe tbody tr th:only-of-type {\n",
       "        vertical-align: middle;\n",
       "    }\n",
       "\n",
       "    .dataframe tbody tr th {\n",
       "        vertical-align: top;\n",
       "    }\n",
       "\n",
       "    .dataframe thead th {\n",
       "        text-align: right;\n",
       "    }\n",
       "</style>\n",
       "<table border=\"1\" class=\"dataframe\">\n",
       "  <thead>\n",
       "    <tr style=\"text-align: right;\">\n",
       "      <th></th>\n",
       "      <th>Age</th>\n",
       "      <th>SystolicBP</th>\n",
       "      <th>DiastolicBP</th>\n",
       "      <th>BS</th>\n",
       "      <th>BodyTemp</th>\n",
       "      <th>HeartRate</th>\n",
       "      <th>RiskLevel</th>\n",
       "    </tr>\n",
       "  </thead>\n",
       "  <tbody>\n",
       "    <tr>\n",
       "      <th>1009</th>\n",
       "      <td>22</td>\n",
       "      <td>120</td>\n",
       "      <td>60</td>\n",
       "      <td>15.0</td>\n",
       "      <td>98.0</td>\n",
       "      <td>80</td>\n",
       "      <td>high risk</td>\n",
       "    </tr>\n",
       "    <tr>\n",
       "      <th>1010</th>\n",
       "      <td>55</td>\n",
       "      <td>120</td>\n",
       "      <td>90</td>\n",
       "      <td>18.0</td>\n",
       "      <td>98.0</td>\n",
       "      <td>60</td>\n",
       "      <td>high risk</td>\n",
       "    </tr>\n",
       "    <tr>\n",
       "      <th>1011</th>\n",
       "      <td>35</td>\n",
       "      <td>85</td>\n",
       "      <td>60</td>\n",
       "      <td>19.0</td>\n",
       "      <td>98.0</td>\n",
       "      <td>86</td>\n",
       "      <td>high risk</td>\n",
       "    </tr>\n",
       "    <tr>\n",
       "      <th>1012</th>\n",
       "      <td>43</td>\n",
       "      <td>120</td>\n",
       "      <td>90</td>\n",
       "      <td>18.0</td>\n",
       "      <td>98.0</td>\n",
       "      <td>70</td>\n",
       "      <td>high risk</td>\n",
       "    </tr>\n",
       "    <tr>\n",
       "      <th>1013</th>\n",
       "      <td>32</td>\n",
       "      <td>120</td>\n",
       "      <td>65</td>\n",
       "      <td>6.0</td>\n",
       "      <td>101.0</td>\n",
       "      <td>76</td>\n",
       "      <td>mid risk</td>\n",
       "    </tr>\n",
       "  </tbody>\n",
       "</table>\n",
       "</div>"
      ],
      "text/plain": [
       "      Age  SystolicBP  DiastolicBP    BS  BodyTemp  HeartRate  RiskLevel\n",
       "1009   22         120           60  15.0      98.0         80  high risk\n",
       "1010   55         120           90  18.0      98.0         60  high risk\n",
       "1011   35          85           60  19.0      98.0         86  high risk\n",
       "1012   43         120           90  18.0      98.0         70  high risk\n",
       "1013   32         120           65   6.0     101.0         76   mid risk"
      ]
     },
     "execution_count": 11,
     "metadata": {},
     "output_type": "execute_result"
    }
   ],
   "source": [
    "df.tail()"
   ]
  },
  {
   "cell_type": "code",
   "execution_count": 13,
   "id": "532c18ec-e8c8-4b8c-bd1c-e687c4168e5f",
   "metadata": {},
   "outputs": [
    {
     "data": {
      "text/plain": [
       "(1014, 7)"
      ]
     },
     "execution_count": 13,
     "metadata": {},
     "output_type": "execute_result"
    }
   ],
   "source": [
    "df.shape"
   ]
  },
  {
   "cell_type": "code",
   "execution_count": 15,
   "id": "bfb7492e-5e0c-409a-b3d8-262405fc7d1d",
   "metadata": {},
   "outputs": [
    {
     "name": "stdout",
     "output_type": "stream",
     "text": [
      "<class 'pandas.core.frame.DataFrame'>\n",
      "RangeIndex: 1014 entries, 0 to 1013\n",
      "Data columns (total 7 columns):\n",
      " #   Column       Non-Null Count  Dtype  \n",
      "---  ------       --------------  -----  \n",
      " 0   Age          1014 non-null   int64  \n",
      " 1   SystolicBP   1014 non-null   int64  \n",
      " 2   DiastolicBP  1014 non-null   int64  \n",
      " 3   BS           1014 non-null   float64\n",
      " 4   BodyTemp     1014 non-null   float64\n",
      " 5   HeartRate    1014 non-null   int64  \n",
      " 6   RiskLevel    1014 non-null   object \n",
      "dtypes: float64(2), int64(4), object(1)\n",
      "memory usage: 55.6+ KB\n"
     ]
    }
   ],
   "source": [
    "df.info()"
   ]
  },
  {
   "cell_type": "code",
   "execution_count": 17,
   "id": "41e5d81c-206e-4dca-9eca-80f8d2e38d5e",
   "metadata": {},
   "outputs": [
    {
     "data": {
      "text/html": [
       "<div>\n",
       "<style scoped>\n",
       "    .dataframe tbody tr th:only-of-type {\n",
       "        vertical-align: middle;\n",
       "    }\n",
       "\n",
       "    .dataframe tbody tr th {\n",
       "        vertical-align: top;\n",
       "    }\n",
       "\n",
       "    .dataframe thead th {\n",
       "        text-align: right;\n",
       "    }\n",
       "</style>\n",
       "<table border=\"1\" class=\"dataframe\">\n",
       "  <thead>\n",
       "    <tr style=\"text-align: right;\">\n",
       "      <th></th>\n",
       "      <th>Age</th>\n",
       "      <th>SystolicBP</th>\n",
       "      <th>DiastolicBP</th>\n",
       "      <th>BS</th>\n",
       "      <th>BodyTemp</th>\n",
       "      <th>HeartRate</th>\n",
       "    </tr>\n",
       "  </thead>\n",
       "  <tbody>\n",
       "    <tr>\n",
       "      <th>count</th>\n",
       "      <td>1014.000000</td>\n",
       "      <td>1014.000000</td>\n",
       "      <td>1014.000000</td>\n",
       "      <td>1014.000000</td>\n",
       "      <td>1014.000000</td>\n",
       "      <td>1014.000000</td>\n",
       "    </tr>\n",
       "    <tr>\n",
       "      <th>mean</th>\n",
       "      <td>29.871795</td>\n",
       "      <td>113.198225</td>\n",
       "      <td>76.460552</td>\n",
       "      <td>8.725986</td>\n",
       "      <td>98.665089</td>\n",
       "      <td>74.301775</td>\n",
       "    </tr>\n",
       "    <tr>\n",
       "      <th>std</th>\n",
       "      <td>13.474386</td>\n",
       "      <td>18.403913</td>\n",
       "      <td>13.885796</td>\n",
       "      <td>3.293532</td>\n",
       "      <td>1.371384</td>\n",
       "      <td>8.088702</td>\n",
       "    </tr>\n",
       "    <tr>\n",
       "      <th>min</th>\n",
       "      <td>10.000000</td>\n",
       "      <td>70.000000</td>\n",
       "      <td>49.000000</td>\n",
       "      <td>6.000000</td>\n",
       "      <td>98.000000</td>\n",
       "      <td>7.000000</td>\n",
       "    </tr>\n",
       "    <tr>\n",
       "      <th>25%</th>\n",
       "      <td>19.000000</td>\n",
       "      <td>100.000000</td>\n",
       "      <td>65.000000</td>\n",
       "      <td>6.900000</td>\n",
       "      <td>98.000000</td>\n",
       "      <td>70.000000</td>\n",
       "    </tr>\n",
       "    <tr>\n",
       "      <th>50%</th>\n",
       "      <td>26.000000</td>\n",
       "      <td>120.000000</td>\n",
       "      <td>80.000000</td>\n",
       "      <td>7.500000</td>\n",
       "      <td>98.000000</td>\n",
       "      <td>76.000000</td>\n",
       "    </tr>\n",
       "    <tr>\n",
       "      <th>75%</th>\n",
       "      <td>39.000000</td>\n",
       "      <td>120.000000</td>\n",
       "      <td>90.000000</td>\n",
       "      <td>8.000000</td>\n",
       "      <td>98.000000</td>\n",
       "      <td>80.000000</td>\n",
       "    </tr>\n",
       "    <tr>\n",
       "      <th>max</th>\n",
       "      <td>70.000000</td>\n",
       "      <td>160.000000</td>\n",
       "      <td>100.000000</td>\n",
       "      <td>19.000000</td>\n",
       "      <td>103.000000</td>\n",
       "      <td>90.000000</td>\n",
       "    </tr>\n",
       "  </tbody>\n",
       "</table>\n",
       "</div>"
      ],
      "text/plain": [
       "               Age   SystolicBP  DiastolicBP           BS     BodyTemp  \\\n",
       "count  1014.000000  1014.000000  1014.000000  1014.000000  1014.000000   \n",
       "mean     29.871795   113.198225    76.460552     8.725986    98.665089   \n",
       "std      13.474386    18.403913    13.885796     3.293532     1.371384   \n",
       "min      10.000000    70.000000    49.000000     6.000000    98.000000   \n",
       "25%      19.000000   100.000000    65.000000     6.900000    98.000000   \n",
       "50%      26.000000   120.000000    80.000000     7.500000    98.000000   \n",
       "75%      39.000000   120.000000    90.000000     8.000000    98.000000   \n",
       "max      70.000000   160.000000   100.000000    19.000000   103.000000   \n",
       "\n",
       "         HeartRate  \n",
       "count  1014.000000  \n",
       "mean     74.301775  \n",
       "std       8.088702  \n",
       "min       7.000000  \n",
       "25%      70.000000  \n",
       "50%      76.000000  \n",
       "75%      80.000000  \n",
       "max      90.000000  "
      ]
     },
     "execution_count": 17,
     "metadata": {},
     "output_type": "execute_result"
    }
   ],
   "source": [
    "df.describe()"
   ]
  },
  {
   "cell_type": "code",
   "execution_count": 19,
   "id": "6d0259d9-7133-4c46-9f81-b17e27f80548",
   "metadata": {},
   "outputs": [],
   "source": [
    "# 🧼 Step 4: Preprocess data\n",
    "# Encode target variable\n",
    "le = LabelEncoder()\n",
    "df['RiskLevel'] = le.fit_transform(df['RiskLevel'])  # Low=1, Mid=2, High=0 (depends on label encoder order)\n",
    "\n",
    "# Feature and target\n",
    "X = df.drop('RiskLevel', axis=1)\n",
    "y = df['RiskLevel']\n",
    "\n",
    "# Train-test split\n",
    "X_train, X_test, y_train, y_test = train_test_split(X, y, test_size=0.2, random_state=42)\n"
   ]
  },
  {
   "cell_type": "code",
   "execution_count": 21,
   "id": "5f560da5-3617-46fa-a95d-0e4d6388c53a",
   "metadata": {},
   "outputs": [
    {
     "name": "stdout",
     "output_type": "stream",
     "text": [
      "Accuracy: 0.812807881773399\n",
      "\n",
      "Classification Report:\n",
      "               precision    recall  f1-score   support\n",
      "\n",
      "           0       0.87      0.85      0.86        47\n",
      "           1       0.86      0.76      0.81        80\n",
      "           2       0.74      0.84      0.79        76\n",
      "\n",
      "    accuracy                           0.81       203\n",
      "   macro avg       0.82      0.82      0.82       203\n",
      "weighted avg       0.82      0.81      0.81       203\n",
      "\n"
     ]
    }
   ],
   "source": [
    "# 🧠 Step 5: Train the model\n",
    "model = RandomForestClassifier(n_estimators=100, random_state=42)\n",
    "model.fit(X_train, y_train)\n",
    "\n",
    "# Evaluate\n",
    "y_pred = model.predict(X_test)\n",
    "print(\"Accuracy:\", accuracy_score(y_test, y_pred))\n",
    "print(\"\\nClassification Report:\\n\", classification_report(y_test, y_pred))\n"
   ]
  },
  {
   "cell_type": "code",
   "execution_count": 23,
   "id": "af30a696-5ca5-4353-be66-fbb3f06b4bc8",
   "metadata": {},
   "outputs": [],
   "source": [
    "# ✅ Step 6: Define a function for prediction and recommendation\n",
    "\n",
    "def get_risk_recommendation(input_data):\n",
    "    prediction = model.predict([input_data])[0]\n",
    "    risk_label = le.inverse_transform([prediction])[0]\n",
    "    \n",
    "    # Recommendation logic\n",
    "    if risk_label == \"Low\":\n",
    "        recommendation = (\n",
    "            \"Maintain a healthy lifestyle. \"\n",
    "            \"Continue regular prenatal checkups, balanced nutrition, \"\n",
    "            \"and physical activity as recommended by your doctor.\"\n",
    "        )\n",
    "    elif risk_label == \"Mid\":\n",
    "        recommendation = (\n",
    "            \"Moderate risk detected. Increase monitoring of blood pressure, sugar levels, and heart rate. \"\n",
    "            \"Consult a doctor for personalized lifestyle and dietary adjustments.\"\n",
    "        )\n",
    "    else:  # High Risk\n",
    "        recommendation = (\n",
    "            \"High risk detected. Immediate consultation with a healthcare provider is recommended. \"\n",
    "            \"Ensure close medical supervision, frequent health monitoring, and avoid stressful activities.\"\n",
    "        )\n",
    "    \n",
    "    return risk_label, recommendation\n"
   ]
  },
  {
   "cell_type": "code",
   "execution_count": 25,
   "id": "48aa792b-c9c0-4ff5-bb71-4381d19f59b3",
   "metadata": {},
   "outputs": [
    {
     "name": "stdout",
     "output_type": "stream",
     "text": [
      "Predicted Risk Level: mid risk\n",
      "Health Recommendation: High risk detected. Immediate consultation with a healthcare provider is recommended. Ensure close medical supervision, frequent health monitoring, and avoid stressful activities.\n"
     ]
    }
   ],
   "source": [
    "# 🧪 Step 7: Try prediction with user input\n",
    "\n",
    "# Example input (can be changed to any values or input widgets)\n",
    "example_input = {\n",
    "    'Age': 30,\n",
    "    'SystolicBP': 130,\n",
    "    'DiastolicBP': 85,\n",
    "    'BS': 8.5,\n",
    "    'BodyTemp': 37.2,\n",
    "    'HeartRate': 90\n",
    "}\n",
    "\n",
    "# Convert to input format\n",
    "input_vector = np.array([list(example_input.values())])\n",
    "\n",
    "# Get prediction and advice\n",
    "predicted_risk, advice = get_risk_recommendation(input_vector[0])\n",
    "\n",
    "print(f\"Predicted Risk Level: {predicted_risk}\")\n",
    "print(f\"Health Recommendation: {advice}\")\n"
   ]
  },
  {
   "cell_type": "code",
   "execution_count": null,
   "id": "6ccb08da-21c6-476a-9c8e-f0c49cf21d38",
   "metadata": {},
   "outputs": [],
   "source": []
  }
 ],
 "metadata": {
  "kernelspec": {
   "display_name": "Python [conda env:base] *",
   "language": "python",
   "name": "conda-base-py"
  },
  "language_info": {
   "codemirror_mode": {
    "name": "ipython",
    "version": 3
   },
   "file_extension": ".py",
   "mimetype": "text/x-python",
   "name": "python",
   "nbconvert_exporter": "python",
   "pygments_lexer": "ipython3",
   "version": "3.12.7"
  }
 },
 "nbformat": 4,
 "nbformat_minor": 5
}
